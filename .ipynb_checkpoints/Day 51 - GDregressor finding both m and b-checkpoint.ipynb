{
 "cells": [
  {
   "cell_type": "markdown",
   "id": "a2cdabff",
   "metadata": {},
   "source": [
    "# Creating GD Regressor class"
   ]
  },
  {
   "cell_type": "code",
   "execution_count": 57,
   "id": "4186ad0e",
   "metadata": {},
   "outputs": [],
   "source": [
    "from sklearn.datasets import make_regression\n",
    "import matplotlib.pyplot as plt\n",
    "import numpy as np"
   ]
  },
  {
   "cell_type": "code",
   "execution_count": 58,
   "id": "b81dd436",
   "metadata": {},
   "outputs": [],
   "source": [
    "X,y = make_regression(n_samples=100, n_features=1, n_informative=1, n_targets=1, noise=20)"
   ]
  },
  {
   "cell_type": "code",
   "execution_count": 59,
   "id": "3076d672",
   "metadata": {},
   "outputs": [
    {
     "data": {
      "text/plain": [
       "<matplotlib.collections.PathCollection at 0x25d90ece2d0>"
      ]
     },
     "execution_count": 59,
     "metadata": {},
     "output_type": "execute_result"
    },
    {
     "data": {
      "image/png": "[encoded data removed]",
      "text/plain": [
       "<Figure size 640x480 with 1 Axes>"
      ]
     },
     "metadata": {},
     "output_type": "display_data"
    }
   ],
   "source": [
    "plt.scatter(X,y)"
   ]
  },
  {
   "cell_type": "code",
   "execution_count": 60,
   "id": "fe032645",
   "metadata": {},
   "outputs": [],
   "source": [
    "from sklearn.linear_model import LinearRegression"
   ]
  },
  {
   "cell_type": "code",
   "execution_count": 61,
   "id": "5e277b9b",
   "metadata": {},
   "outputs": [],
   "source": [
    "lr = LinearRegression()"
   ]
  },
  {
   "cell_type": "code",
   "execution_count": 62,
   "id": "8c876c3e",
   "metadata": {},
   "outputs": [
    {
     "data": {
      "text/html": [
       "<style>#sk-container-id-5 {color: black;}#sk-container-id-5 pre{padding: 0;}#sk-container-id-5 div.sk-toggleable {background-color: white;}#sk-container-id-5 label.sk-toggleable__label {cursor: pointer;display: block;width: 100%;margin-bottom: 0;padding: 0.3em;box-sizing: border-box;text-align: center;}#sk-container-id-5 label.sk-toggleable__label-arrow:before {content: \"▸\";float: left;margin-right: 0.25em;color: #696969;}#sk-container-id-5 label.sk-toggleable__label-arrow:hover:before {color: black;}#sk-container-id-5 div.sk-estimator:hover label.sk-toggleable__label-arrow:before {color: black;}#sk-container-id-5 div.sk-toggleable__content {max-height: 0;max-width: 0;overflow: hidden;text-align: left;background-color: #f0f8ff;}#sk-container-id-5 div.sk-toggleable__content pre {margin: 0.2em;color: black;border-radius: 0.25em;background-color: #f0f8ff;}#sk-container-id-5 input.sk-toggleable__control:checked~div.sk-toggleable__content {max-height: 200px;max-width: 100%;overflow: auto;}#sk-container-id-5 input.sk-toggleable__control:checked~label.sk-toggleable__label-arrow:before {content: \"▾\";}#sk-container-id-5 div.sk-estimator input.sk-toggleable__control:checked~label.sk-toggleable__label {background-color: #d4ebff;}#sk-container-id-5 div.sk-label input.sk-toggleable__control:checked~label.sk-toggleable__label {background-color: #d4ebff;}#sk-container-id-5 input.sk-hidden--visually {border: 0;clip: rect(1px 1px 1px 1px);clip: rect(1px, 1px, 1px, 1px);height: 1px;margin: -1px;overflow: hidden;padding: 0;position: absolute;width: 1px;}#sk-container-id-5 div.sk-estimator {font-family: monospace;background-color: #f0f8ff;border: 1px dotted black;border-radius: 0.25em;box-sizing: border-box;margin-bottom: 0.5em;}#sk-container-id-5 div.sk-estimator:hover {background-color: #d4ebff;}#sk-container-id-5 div.sk-parallel-item::after {content: \"\";width: 100%;border-bottom: 1px solid gray;flex-grow: 1;}#sk-container-id-5 div.sk-label:hover label.sk-toggleable__label {background-color: #d4ebff;}#sk-container-id-5 div.sk-serial::before {content: \"\";position: absolute;border-left: 1px solid gray;box-sizing: border-box;top: 0;bottom: 0;left: 50%;z-index: 0;}#sk-container-id-5 div.sk-serial {display: flex;flex-direction: column;align-items: center;background-color: white;padding-right: 0.2em;padding-left: 0.2em;position: relative;}#sk-container-id-5 div.sk-item {position: relative;z-index: 1;}#sk-container-id-5 div.sk-parallel {display: flex;align-items: stretch;justify-content: center;background-color: white;position: relative;}#sk-container-id-5 div.sk-item::before, #sk-container-id-5 div.sk-parallel-item::before {content: \"\";position: absolute;border-left: 1px solid gray;box-sizing: border-box;top: 0;bottom: 0;left: 50%;z-index: -1;}#sk-container-id-5 div.sk-parallel-item {display: flex;flex-direction: column;z-index: 1;position: relative;background-color: white;}#sk-container-id-5 div.sk-parallel-item:first-child::after {align-self: flex-end;width: 50%;}#sk-container-id-5 div.sk-parallel-item:last-child::after {align-self: flex-start;width: 50%;}#sk-container-id-5 div.sk-parallel-item:only-child::after {width: 0;}#sk-container-id-5 div.sk-dashed-wrapped {border: 1px dashed gray;margin: 0 0.4em 0.5em 0.4em;box-sizing: border-box;padding-bottom: 0.4em;background-color: white;}#sk-container-id-5 div.sk-label label {font-family: monospace;font-weight: bold;display: inline-block;line-height: 1.2em;}#sk-container-id-5 div.sk-label-container {text-align: center;}#sk-container-id-5 div.sk-container {/* jupyter's `normalize.less` sets `[hidden] { display: none; }` but bootstrap.min.css set `[hidden] { display: none !important; }` so we also need the `!important` here to be able to override the default hidden behavior on the sphinx rendered scikit-learn.org. See: https://github.com/scikit-learn/scikit-learn/issues/21755 */display: inline-block !important;position: relative;}#sk-container-id-5 div.sk-text-repr-fallback {display: none;}</style><div id=\"sk-container-id-5\" class=\"sk-top-container\"><div class=\"sk-text-repr-fallback\"><pre>LinearRegression()</pre><b>In a Jupyter environment, please rerun this cell to show the HTML representation or trust the notebook. <br />On GitHub, the HTML representation is unable to render, please try loading this page with nbviewer.org.</b></div><div class=\"sk-container\" hidden><div class=\"sk-item\"><div class=\"sk-estimator sk-toggleable\"><input class=\"sk-toggleable__control sk-hidden--visually\" id=\"sk-estimator-id-5\" type=\"checkbox\" checked><label for=\"sk-estimator-id-5\" class=\"sk-toggleable__label sk-toggleable__label-arrow\">LinearRegression</label><div class=\"sk-toggleable__content\"><pre>LinearRegression()</pre></div></div></div></div></div>"
      ],
      "text/plain": [
       "LinearRegression()"
      ]
     },
     "execution_count": 62,
     "metadata": {},
     "output_type": "execute_result"
    }
   ],
   "source": [
    "lr.fit(X,y)"
   ]
  },
  {
   "cell_type": "code",
   "execution_count": 63,
   "id": "e44cfb7e",
   "metadata": {},
   "outputs": [
    {
     "name": "stdout",
     "output_type": "stream",
     "text": [
      "[84.12278061]\n",
      "0.06520689757326004\n"
     ]
    }
   ],
   "source": [
    "print(lr.coef_)\n",
    "print(lr.intercept_)"
   ]
  },
  {
   "cell_type": "code",
   "execution_count": 64,
   "id": "d2635090",
   "metadata": {},
   "outputs": [],
   "source": [
    "m = 84.122"
   ]
  },
  {
   "cell_type": "code",
   "execution_count": 65,
   "id": "28dadc7d",
   "metadata": {},
   "outputs": [],
   "source": [
    "class GDRegressor:\n",
    "    \n",
    "    def __init__(self,learning_rate,epochs):\n",
    "        self.m = m\n",
    "        self.b = -120\n",
    "        self.lr = learning_rate\n",
    "        self.epochs = epochs\n",
    "        \n",
    "    def fit(self,X,y):\n",
    "        #calculate the b using GD\n",
    "        \n",
    "        for i in range(self.epochs):\n",
    "            loss_slope = -2* np.sum(y - self.m*X.ravel() - self.b)\n",
    "            self.b = self.b - (self.lr * loss_slope)\n",
    "            print(loss_slope,self.b)\n",
    "        print(self.b)"
   ]
  },
  {
   "cell_type": "code",
   "execution_count": 66,
   "id": "bd58ba0e",
   "metadata": {},
   "outputs": [],
   "source": [
    "gd = GDRegressor(0.009,100)"
   ]
  },
  {
   "cell_type": "code",
   "execution_count": 67,
   "id": "85a196e3",
   "metadata": {},
   "outputs": [
    {
     "name": "stdout",
     "output_type": "stream",
     "text": [
      "-24013.052675832852 96.11747408249565\n",
      "19210.44214066628 -76.77650518350086\n",
      "-15368.353712533024 61.53867822929635\n",
      "12294.682970026417 -49.113468500941394\n",
      "-9835.746376021129 39.40824888324876\n",
      "7868.597100816901 -31.409125024103346\n",
      "-6294.877680653521 25.244774101778333\n",
      "5035.902144522815 -20.078345198927003\n",
      "-4028.721715618251 16.18015024163725\n",
      "3222.9773724945994 -12.826646110814142\n",
      "-2578.3818979956786 10.378790971146962\n",
      "2062.7055183965417 -8.18555869442191\n",
      "-1650.164414717233 6.665921038033186\n",
      "1320.1315317737867 -5.215262747930893\n",
      "-1056.105225419029 4.289684280840367\n",
      "844.8841803352232 -3.314273342176641\n",
      "-675.9073442681786 2.7688927562369656\n",
      "540.7258754145425 -2.0976401224939165\n",
      "-432.5807003316337 1.7955861804907864\n",
      "346.0645602653069 -1.3189948618969756\n",
      "-276.8516482122456 1.1726699720132348\n",
      "221.4813185697967 -0.8206618951149356\n",
      "-177.18505485583776 0.7740035985876041\n",
      "141.74804388467027 -0.5017287963744281\n",
      "-113.3984351077361 0.5188571195951968\n",
      "90.71874808618884 -0.2976116131805028\n",
      "-72.57499846895121 0.35556337304005803\n",
      "58.05999877516104 -0.16697661593639135\n",
      "-46.447999020128805 0.25105537524476784\n",
      "37.15839921610308 -0.08337021770015984\n",
      "-29.726719372882627 0.1841702566557838\n",
      "23.781375498306303 -0.02986212282897291\n",
      "-19.025100398645137 0.1413637807588333\n",
      "15.220080318916324 0.004383057888586395\n",
      "-12.176064255133106 0.11396763618478434\n",
      "9.740851404106216 0.026299973547828398\n",
      "-7.792681123284822 0.09643410365739179\n",
      "6.23414489862774 0.04032679956974213\n",
      "-4.987315918902212 0.08521264283986203\n",
      "3.989852735122099 0.049303968223763144\n",
      "-3.1918821880977575 0.07803090791664297\n",
      "2.5535057504779957 0.05504935616234101\n",
      "-2.0428046003820555 0.07343459756577951\n",
      "1.6342436803053033 0.05872640444303178\n",
      "-1.3073949442440096 0.07049295894122787\n",
      "1.0459159553951665 0.06107971534267137\n",
      "-0.8367327643160678 0.06861031022151598\n",
      "0.6693862114526468 0.06258583431844215\n",
      "-0.5355089691622794 0.06740541504090267\n",
      "0.42840717533010775 0.0635497504629317\n",
      "-0.34272574026417146 0.06663428212530924\n",
      "0.2741805922112164 0.0641666567954083\n",
      "-0.21934447376895605 0.0661407570593289\n",
      "0.17547557901546895 0.06456147684818968\n",
      "-0.14038046321260822 0.06582490101710316\n",
      "0.11230437057021447 0.06481416168197122\n",
      "-0.08984349645615453 0.06562275315007661\n",
      "0.07187479716498046 0.06497587997559179\n",
      "-0.057499837732095216 0.06549337851518064\n",
      "0.045999870185745806 0.06507937968350892\n",
      "-0.03679989614852275 0.06541057874884562\n",
      "0.029439916918633457 0.06514561949657792\n",
      "-0.023551933535010505 0.06535758689839301\n",
      "0.018841546828113565 0.06518801297693999\n",
      "-0.015073237462388533 0.06532367211410149\n",
      "0.012058589969882405 0.06521514480437254\n",
      "-0.009646871976059401 0.06530196665215708\n",
      "0.007717497580969734 0.06523250917392835\n",
      "-0.006173998064952002 0.06528807515651291\n",
      "0.004939198452319715 0.06524362237044204\n",
      "-0.003951358761838719 0.06527918459929859\n",
      "0.0031610870092890764 0.06525073481621499\n",
      "-0.002528869607381523 0.06527349464268142\n",
      "0.0020230956859705884 0.06525528678150769\n",
      "-0.0016184765489839492 0.06526985307044854\n",
      "0.0012947812390251556 0.06525820003929732\n",
      "-0.0010358249911419648 0.06526752246421759\n",
      "0.0008286599930187322 0.06526006452428042\n",
      "-0.0006629279942842459 0.06526603087622898\n",
      "0.0005303423955638209 0.0652612577946689\n",
      "-0.0004242739165292164 0.06526507625991766\n",
      "0.0003394191332972696 0.06526202148771798\n",
      "-0.0002715353068509785 0.06526446530547964\n",
      "0.00021722824539693875 0.06526251025127107\n",
      "-0.00017378259625644432 0.06526407429463738\n",
      "0.00013902607702220848 0.06526282305994417\n",
      "-0.00011122086177550727 0.06526382404770015\n",
      "8.897668979557238e-05 0.06526302325749199\n",
      "-7.118135204109421e-05 0.06526366388966036\n",
      "5.6945081610138004e-05 0.06526315138392587\n",
      "-4.555606513889643e-05 0.06526356138851212\n",
      "3.6444851815531365e-05 0.06526323338484578\n",
      "-2.915588129326352e-05 0.06526349578777742\n",
      "2.3324704891081183e-05 0.0652632858654334\n",
      "-1.8659763767914228e-05 0.06526345380330731\n",
      "1.4927811122333878e-05 0.0652633194530072\n",
      "-1.1942248939078581e-05 0.06526342693324766\n",
      "9.553798896888566e-06 0.06526334094905759\n",
      "-7.643038770765997e-06 0.06526340973640653\n",
      "6.114430703973994e-06 0.06526335470653019\n",
      "0.06526335470653019\n"
     ]
    }
   ],
   "source": [
    "gd.fit(X,y)"
   ]
  },
  {
   "cell_type": "code",
   "execution_count": null,
   "id": "4279be02",
   "metadata": {},
   "outputs": [],
   "source": []
  }
 ],
 "metadata": {
  "kernelspec": {
   "display_name": "Python 3 (ipykernel)",
   "language": "python",
   "name": "python3"
  },
  "language_info": {
   "codemirror_mode": {
    "name": "ipython",
    "version": 3
   },
   "file_extension": ".py",
   "mimetype": "text/x-python",
   "name": "python",
   "nbconvert_exporter": "python",
   "pygments_lexer": "ipython3",
   "version": "3.11.5"
  }
 },
 "nbformat": 4,
 "nbformat_minor": 5
}
