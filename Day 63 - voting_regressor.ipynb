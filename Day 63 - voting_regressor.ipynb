{
 "cells": [
  {
   "cell_type": "code",
   "execution_count": 18,
   "metadata": {
    "id": "Ss-cQIY42Bws"
   },
   "outputs": [],
   "source": [
    "from sklearn.datasets import load_diabetes\n",
    "import numpy as np\n",
    "import pandas as pd"
   ]
  },
  {
   "cell_type": "code",
   "execution_count": 10,
   "metadata": {},
   "outputs": [],
   "source": [
    "load_boston = pd.read_csv('housing.csv', header=None)\n",
    "data = np.hstack([raw_df.values[::2, :], raw_df.values[1::2, :2]])\n",
    "target = raw_df.values[1::2, 2]"
   ]
  },
  {
   "cell_type": "code",
   "execution_count": null,
   "metadata": {},
   "outputs": [],
   "source": []
  },
  {
   "cell_type": "code",
   "execution_count": 19,
   "metadata": {
    "id": "L82355oG2MVV"
   },
   "outputs": [],
   "source": [
    "X,y = load_diabetes(return_X_y=True)"
   ]
  },
  {
   "cell_type": "code",
   "execution_count": 20,
   "metadata": {
    "colab": {
     "base_uri": "https://localhost:8080/"
    },
    "id": "zGYaqrzb2RGg",
    "outputId": "2e1090cf-b1ec-4b9f-e959-2cfbfa9d8d4c"
   },
   "outputs": [
    {
     "data": {
      "text/plain": [
       "(442, 10)"
      ]
     },
     "execution_count": 20,
     "metadata": {},
     "output_type": "execute_result"
    }
   ],
   "source": [
    "X.shape"
   ]
  },
  {
   "cell_type": "code",
   "execution_count": 21,
   "metadata": {
    "colab": {
     "base_uri": "https://localhost:8080/"
    },
    "id": "4BaylTL92SUJ",
    "outputId": "81e72b11-c9cc-49ae-ca42-0536e5d924fc"
   },
   "outputs": [
    {
     "data": {
      "text/plain": [
       "(442,)"
      ]
     },
     "execution_count": 21,
     "metadata": {},
     "output_type": "execute_result"
    }
   ],
   "source": [
    "y.shape"
   ]
  },
  {
   "cell_type": "code",
   "execution_count": 22,
   "metadata": {
    "colab": {
     "base_uri": "https://localhost:8080/"
    },
    "id": "rwgnJR1v2TVe",
    "outputId": "90ce5a18-14ad-410b-f5ad-33d83cabca25"
   },
   "outputs": [
    {
     "data": {
      "text/plain": [
       "array([[ 0.03807591,  0.05068012,  0.06169621, ..., -0.00259226,\n",
       "         0.01990749, -0.01764613],\n",
       "       [-0.00188202, -0.04464164, -0.05147406, ..., -0.03949338,\n",
       "        -0.06833155, -0.09220405],\n",
       "       [ 0.08529891,  0.05068012,  0.04445121, ..., -0.00259226,\n",
       "         0.00286131, -0.02593034],\n",
       "       ...,\n",
       "       [ 0.04170844,  0.05068012, -0.01590626, ..., -0.01107952,\n",
       "        -0.04688253,  0.01549073],\n",
       "       [-0.04547248, -0.04464164,  0.03906215, ...,  0.02655962,\n",
       "         0.04452873, -0.02593034],\n",
       "       [-0.04547248, -0.04464164, -0.0730303 , ..., -0.03949338,\n",
       "        -0.00422151,  0.00306441]])"
      ]
     },
     "execution_count": 22,
     "metadata": {},
     "output_type": "execute_result"
    }
   ],
   "source": [
    "X"
   ]
  },
  {
   "cell_type": "code",
   "execution_count": null,
   "metadata": {},
   "outputs": [],
   "source": []
  },
  {
   "cell_type": "code",
   "execution_count": 24,
   "metadata": {
    "id": "5h38RPz82UFN"
   },
   "outputs": [],
   "source": [
    "from sklearn.linear_model import LinearRegression\n",
    "from sklearn.tree import DecisionTreeRegressor\n",
    "from sklearn.svm import SVR\n",
    "from sklearn.model_selection import cross_val_score"
   ]
  },
  {
   "cell_type": "code",
   "execution_count": 25,
   "metadata": {
    "id": "gnftFxxS2mHq"
   },
   "outputs": [],
   "source": [
    "lr = LinearRegression()\n",
    "dt = DecisionTreeRegressor()\n",
    "svr = SVR()"
   ]
  },
  {
   "cell_type": "code",
   "execution_count": 26,
   "metadata": {
    "id": "8OzpSAXh2s_y"
   },
   "outputs": [],
   "source": [
    "estimators = [('lr',lr),('dt',dt),('svr',svr)]"
   ]
  },
  {
   "cell_type": "code",
   "execution_count": 27,
   "metadata": {
    "colab": {
     "base_uri": "https://localhost:8080/"
    },
    "id": "4g8F5nQE20B2",
    "outputId": "c110e28e-91d3-40e8-9a27-ddd6fb0d2d16"
   },
   "outputs": [
    {
     "name": "stdout",
     "output_type": "stream",
     "text": [
      "lr 0.46\n",
      "dt -0.25\n",
      "svr 0.15\n"
     ]
    }
   ],
   "source": [
    "for estimator in estimators:\n",
    "  scores = cross_val_score(estimator[1],X,y,scoring='r2',cv=10)\n",
    "  print(estimator[0],np.round(np.mean(scores),2))"
   ]
  },
  {
   "cell_type": "code",
   "execution_count": 28,
   "metadata": {
    "id": "2ADqXH8s3JHe"
   },
   "outputs": [],
   "source": [
    "from sklearn.ensemble import VotingRegressor"
   ]
  },
  {
   "cell_type": "code",
   "execution_count": 29,
   "metadata": {
    "colab": {
     "base_uri": "https://localhost:8080/"
    },
    "id": "45lcgrE83eDK",
    "outputId": "18c72045-1b49-4f44-866e-5c11fa825c8b"
   },
   "outputs": [
    {
     "name": "stdout",
     "output_type": "stream",
     "text": [
      "Voting Regressor 0.33\n"
     ]
    }
   ],
   "source": [
    "vr = VotingRegressor(estimators)\n",
    "scores = cross_val_score(vr,X,y,scoring='r2',cv=10)\n",
    "print(\"Voting Regressor\",np.round(np.mean(scores),2))"
   ]
  },
  {
   "cell_type": "code",
   "execution_count": 30,
   "metadata": {
    "colab": {
     "base_uri": "https://localhost:8080/"
    },
    "id": "uKeZQxsY3qG1",
    "outputId": "7814cfb7-2c5b-4db9-8f40-cdf2ed797df6"
   },
   "outputs": [
    {
     "name": "stdout",
     "output_type": "stream",
     "text": [
      "For i=1,j=1,k=1 0.34\n",
      "For i=1,j=1,k=2 0.33\n",
      "For i=1,j=1,k=3 0.32\n",
      "For i=1,j=2,k=1 0.26\n",
      "For i=1,j=2,k=2 0.29\n",
      "For i=1,j=2,k=3 0.29\n",
      "For i=1,j=3,k=1 0.2\n",
      "For i=1,j=3,k=2 0.24\n",
      "For i=1,j=3,k=3 0.25\n",
      "For i=2,j=1,k=1 0.39\n",
      "For i=2,j=1,k=2 0.39\n",
      "For i=2,j=1,k=3 0.37\n",
      "For i=2,j=2,k=1 0.35\n",
      "For i=2,j=2,k=2 0.35\n",
      "For i=2,j=2,k=3 0.34\n",
      "For i=2,j=3,k=1 0.28\n",
      "For i=2,j=3,k=2 0.3\n",
      "For i=2,j=3,k=3 0.3\n",
      "For i=3,j=1,k=1 0.42\n",
      "For i=3,j=1,k=2 0.41\n",
      "For i=3,j=1,k=3 0.39\n",
      "For i=3,j=2,k=1 0.36\n",
      "For i=3,j=2,k=2 0.38\n",
      "For i=3,j=2,k=3 0.38\n",
      "For i=3,j=3,k=1 0.31\n",
      "For i=3,j=3,k=2 0.31\n",
      "For i=3,j=3,k=3 0.34\n"
     ]
    }
   ],
   "source": [
    "for i in range(1,4):\n",
    "  for j in range(1,4):\n",
    "    for k in range(1,4):\n",
    "      vr = VotingRegressor(estimators,weights=[i,j,k])\n",
    "      scores = cross_val_score(vr,X,y,scoring='r2',cv=10)\n",
    "      print(\"For i={},j={},k={}\".format(i,j,k),np.round(np.mean(scores),2))\n"
   ]
  },
  {
   "cell_type": "code",
   "execution_count": 31,
   "metadata": {
    "id": "xln9JLUh4bMA"
   },
   "outputs": [],
   "source": [
    "# using the same algorithm\n",
    "\n",
    "dt1 = DecisionTreeRegressor(max_depth=1)\n",
    "dt2 = DecisionTreeRegressor(max_depth=3)\n",
    "dt3 = DecisionTreeRegressor(max_depth=5)\n",
    "dt4 = DecisionTreeRegressor(max_depth=7)\n",
    "dt5 = DecisionTreeRegressor(max_depth=None)"
   ]
  },
  {
   "cell_type": "code",
   "execution_count": 32,
   "metadata": {
    "id": "TMNFLtcZ45ZR"
   },
   "outputs": [],
   "source": [
    "estimators = [('dt1',dt1),('dt2',dt2),('dt3',dt3),('dt4',dt4),('dt5',dt5)]"
   ]
  },
  {
   "cell_type": "code",
   "execution_count": 33,
   "metadata": {
    "colab": {
     "base_uri": "https://localhost:8080/"
    },
    "id": "OoNnadMV5PKk",
    "outputId": "618aa32c-b37c-4ab8-a0a1-d20b1e98ab88"
   },
   "outputs": [
    {
     "name": "stdout",
     "output_type": "stream",
     "text": [
      "dt1 0.15\n",
      "dt2 0.29\n",
      "dt3 0.17\n",
      "dt4 -0.05\n",
      "dt5 -0.22\n"
     ]
    }
   ],
   "source": [
    "for estimator in estimators:\n",
    "  scores = cross_val_score(estimator[1],X,y,scoring='r2',cv=10)\n",
    "  print(estimator[0],np.round(np.mean(scores),2))"
   ]
  },
  {
   "cell_type": "code",
   "execution_count": 34,
   "metadata": {
    "colab": {
     "base_uri": "https://localhost:8080/"
    },
    "id": "dxFmVW2A5EDR",
    "outputId": "8fbdbe55-1ba9-4e15-f3e4-e6d1b9cd98ad"
   },
   "outputs": [
    {
     "name": "stdout",
     "output_type": "stream",
     "text": [
      "Voting Regressor 0.21\n"
     ]
    }
   ],
   "source": [
    "vr = VotingRegressor(estimators)\n",
    "scores = cross_val_score(vr,X,y,scoring='r2',cv=10)\n",
    "print(\"Voting Regressor\",np.round(np.mean(scores),2))"
   ]
  },
  {
   "cell_type": "code",
   "execution_count": null,
   "metadata": {
    "id": "xCNX58b95KfF"
   },
   "outputs": [],
   "source": []
  }
 ],
 "metadata": {
  "colab": {
   "name": "voting-regressor.ipynb",
   "provenance": []
  },
  "kernelspec": {
   "display_name": "Python 3 (ipykernel)",
   "language": "python",
   "name": "python3"
  },
  "language_info": {
   "codemirror_mode": {
    "name": "ipython",
    "version": 3
   },
   "file_extension": ".py",
   "mimetype": "text/x-python",
   "name": "python",
   "nbconvert_exporter": "python",
   "pygments_lexer": "ipython3",
   "version": "3.11.5"
  }
 },
 "nbformat": 4,
 "nbformat_minor": 1
}
